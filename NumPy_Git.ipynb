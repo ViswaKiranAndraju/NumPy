{
 "cells": [
  {
   "cell_type": "code",
   "execution_count": 152,
   "id": "78360505",
   "metadata": {},
   "outputs": [],
   "source": [
    "import numpy as np"
   ]
  },
  {
   "cell_type": "code",
   "execution_count": 153,
   "id": "adcbbd1e",
   "metadata": {},
   "outputs": [
    {
     "data": {
      "text/plain": [
       "array([[0.17638181, 0.74802037, 0.40852143, 0.77609032],\n",
       "       [0.69853777, 0.15819175, 0.6937594 , 0.00966084]])"
      ]
     },
     "execution_count": 153,
     "metadata": {},
     "output_type": "execute_result"
    }
   ],
   "source": [
    "data = np.random.rand(2,4) #Create an multi-dimensional array of size 2*4 with random elements\n",
    "data"
   ]
  },
  {
   "cell_type": "code",
   "execution_count": 154,
   "id": "7f47796a",
   "metadata": {},
   "outputs": [
    {
     "data": {
      "text/plain": [
       "dtype('float64')"
      ]
     },
     "execution_count": 154,
     "metadata": {},
     "output_type": "execute_result"
    }
   ],
   "source": [
    "data.shape # Return the shape of the array\n",
    "data.ndim # Return the dimensions of the array\n",
    "data.dtype # Returns the datatype of the array"
   ]
  },
  {
   "cell_type": "markdown",
   "id": "839126e5",
   "metadata": {},
   "source": [
    "# Creating ndarrays"
   ]
  },
  {
   "cell_type": "code",
   "execution_count": 155,
   "id": "850433f0",
   "metadata": {},
   "outputs": [
    {
     "data": {
      "text/plain": [
       "array([1, 3, 5, 7, 9])"
      ]
     },
     "execution_count": 155,
     "metadata": {},
     "output_type": "execute_result"
    }
   ],
   "source": [
    "data1 = [1,3,5,7,9] # Consider list or any pthon sequence data structure\n",
    "arr1 = np.array(data1) # Converts it into array\n",
    "arr1"
   ]
  },
  {
   "cell_type": "code",
   "execution_count": 156,
   "id": "bbcb9f9c",
   "metadata": {},
   "outputs": [
    {
     "data": {
      "text/plain": [
       "dtype('int32')"
      ]
     },
     "execution_count": 156,
     "metadata": {},
     "output_type": "execute_result"
    }
   ],
   "source": [
    "arr1.ndim # 1\n",
    "arr1.shape # (5,)\n",
    "arr1.dtype # int32"
   ]
  },
  {
   "cell_type": "code",
   "execution_count": 157,
   "id": "b09a638c",
   "metadata": {},
   "outputs": [
    {
     "data": {
      "text/plain": [
       "array([[1, 3, 5, 7, 9],\n",
       "       [0, 2, 4, 6, 8]])"
      ]
     },
     "execution_count": 157,
     "metadata": {},
     "output_type": "execute_result"
    }
   ],
   "source": [
    "data2= [[1,3,5,7,9],[0,2,4,6,8]] # Considering nested lists\n",
    "arr2 = np.array(data2) # Converts it into 2d array\n",
    "arr2"
   ]
  },
  {
   "cell_type": "code",
   "execution_count": 158,
   "id": "1e3ab7bb",
   "metadata": {},
   "outputs": [
    {
     "data": {
      "text/plain": [
       "dtype('int32')"
      ]
     },
     "execution_count": 158,
     "metadata": {},
     "output_type": "execute_result"
    }
   ],
   "source": [
    "arr2.ndim # 2\n",
    "arr2.shape # (2,5)\n",
    "arr2.dtype # int32"
   ]
  },
  {
   "cell_type": "code",
   "execution_count": 159,
   "id": "8a64a13e",
   "metadata": {},
   "outputs": [
    {
     "data": {
      "text/plain": [
       "array([[0., 0., 0.],\n",
       "       [0., 0., 0.],\n",
       "       [0., 0., 0.]])"
      ]
     },
     "execution_count": 159,
     "metadata": {},
     "output_type": "execute_result"
    }
   ],
   "source": [
    "arr3 = np.zeros((3,3)) # Creates an array wtih elements as 0 with shape as 3*3 or any specified shape\n",
    "arr3"
   ]
  },
  {
   "cell_type": "code",
   "execution_count": 160,
   "id": "0f4dfcc1",
   "metadata": {},
   "outputs": [
    {
     "data": {
      "text/plain": [
       "array([[0, 0, 0, 0, 0],\n",
       "       [0, 0, 0, 0, 0]])"
      ]
     },
     "execution_count": 160,
     "metadata": {},
     "output_type": "execute_result"
    }
   ],
   "source": [
    "arr4 = np.zeros_like(arr2) #Creates an array with elements as 0 with shape same as array specified\n",
    "arr4"
   ]
  },
  {
   "cell_type": "code",
   "execution_count": 161,
   "id": "1a4c22c8",
   "metadata": {},
   "outputs": [
    {
     "data": {
      "text/plain": [
       "array([[1., 1., 1.],\n",
       "       [1., 1., 1.],\n",
       "       [1., 1., 1.],\n",
       "       [1., 1., 1.]])"
      ]
     },
     "execution_count": 161,
     "metadata": {},
     "output_type": "execute_result"
    }
   ],
   "source": [
    "arr5 = np.ones((4,3))# Creates an array wtih elements as 1 with shape as 4*3 or any specified shape\n",
    "arr5"
   ]
  },
  {
   "cell_type": "code",
   "execution_count": 162,
   "id": "a68941ef",
   "metadata": {},
   "outputs": [
    {
     "data": {
      "text/plain": [
       "array([[1, 1, 1, 1, 1],\n",
       "       [1, 1, 1, 1, 1]])"
      ]
     },
     "execution_count": 162,
     "metadata": {},
     "output_type": "execute_result"
    }
   ],
   "source": [
    "arr6 = np.ones_like((arr2)) # Creates an array with elements as 1 with shape same as array specified\n",
    "arr6"
   ]
  },
  {
   "cell_type": "code",
   "execution_count": 163,
   "id": "d6997c5b",
   "metadata": {},
   "outputs": [
    {
     "data": {
      "text/plain": [
       "array([[1, 2, 3],\n",
       "       [4, 5, 6],\n",
       "       [7, 8, 9]])"
      ]
     },
     "execution_count": 163,
     "metadata": {},
     "output_type": "execute_result"
    }
   ],
   "source": [
    "arr7 = np.arange(1,10) # Creates a array of numbers from range 1 to 9 (n-1)\n",
    "arr7 = arr7.reshape(3,3) # reshape -> reshapes the 1D array to specified dimensions if complatible\n",
    "# also written as arr7 = np.arange(1,10).reshape(3,3)\n",
    "arr7"
   ]
  },
  {
   "cell_type": "code",
   "execution_count": 164,
   "id": "1aa33aa8",
   "metadata": {},
   "outputs": [
    {
     "data": {
      "text/plain": [
       "array([[1., 0., 0., 0., 0.],\n",
       "       [0., 1., 0., 0., 0.],\n",
       "       [0., 0., 1., 0., 0.],\n",
       "       [0., 0., 0., 1., 0.],\n",
       "       [0., 0., 0., 0., 1.]])"
      ]
     },
     "execution_count": 164,
     "metadata": {},
     "output_type": "execute_result"
    }
   ],
   "source": [
    "arr8 = np.identity(5) # Creates a square N × N identity matrix (1s on the diagonal and 0s elsewhere)\n",
    "# another way arr8 = np.eye(5)\n",
    "arr8"
   ]
  },
  {
   "cell_type": "markdown",
   "id": "b947600f",
   "metadata": {},
   "source": [
    "# Datatypes for ndarrays"
   ]
  },
  {
   "cell_type": "code",
   "execution_count": 165,
   "id": "06be6c2d",
   "metadata": {},
   "outputs": [
    {
     "data": {
      "text/plain": [
       "array([1, 3, 5, 7, 9])"
      ]
     },
     "execution_count": 165,
     "metadata": {},
     "output_type": "execute_result"
    }
   ],
   "source": [
    "arr9 = np.arange(1,10,2,dtype=\"int32\")\n",
    "arr9"
   ]
  },
  {
   "cell_type": "code",
   "execution_count": 166,
   "id": "768852bc",
   "metadata": {},
   "outputs": [
    {
     "data": {
      "text/plain": [
       "dtype('int32')"
      ]
     },
     "execution_count": 166,
     "metadata": {},
     "output_type": "execute_result"
    }
   ],
   "source": [
    "arr9.dtype #Check the datatype of array it is int32"
   ]
  },
  {
   "cell_type": "code",
   "execution_count": 167,
   "id": "4398dac6",
   "metadata": {},
   "outputs": [
    {
     "data": {
      "text/plain": [
       "array([1., 3., 5., 7., 9.], dtype=float32)"
      ]
     },
     "execution_count": 167,
     "metadata": {},
     "output_type": "execute_result"
    }
   ],
   "source": [
    "arr10 = np.arange(1,10,2,dtype=\"float32\")\n",
    "arr10"
   ]
  },
  {
   "cell_type": "code",
   "execution_count": 168,
   "id": "7e1906c9",
   "metadata": {},
   "outputs": [
    {
     "data": {
      "text/plain": [
       "dtype('float32')"
      ]
     },
     "execution_count": 168,
     "metadata": {},
     "output_type": "execute_result"
    }
   ],
   "source": [
    "arr10.dtype #Check the datatype of array it is float32"
   ]
  },
  {
   "cell_type": "markdown",
   "id": "72d87c59",
   "metadata": {},
   "source": [
    "## Datatype Conversion (Typecasting)"
   ]
  },
  {
   "cell_type": "code",
   "execution_count": 169,
   "id": "b780fcdf",
   "metadata": {
    "scrolled": true
   },
   "outputs": [
    {
     "data": {
      "text/plain": [
       "dtype('float32')"
      ]
     },
     "execution_count": 169,
     "metadata": {},
     "output_type": "execute_result"
    }
   ],
   "source": [
    "int_arr1 = np.array([1,2,3,4,5])\n",
    "float_arr1 = int_arr1.astype(np.float32) # astype() used for typecasting\n",
    "float_arr1 # [1., 2., 3., 4., 5.]\n",
    "float_arr1.dtype # float32"
   ]
  },
  {
   "cell_type": "code",
   "execution_count": 170,
   "id": "8c74a6aa",
   "metadata": {},
   "outputs": [
    {
     "data": {
      "text/plain": [
       "dtype('int32')"
      ]
     },
     "execution_count": 170,
     "metadata": {},
     "output_type": "execute_result"
    }
   ],
   "source": [
    "float_arr2 = np.array([1.1,2.2,3.3,4.4,5.5]) \n",
    "int_arr2 = float_arr2.astype(np.int32)\n",
    "int_arr2 # [1, 2, 3, 4, 5]\n",
    "int_arr.dtype # int32"
   ]
  },
  {
   "cell_type": "markdown",
   "id": "b61c43f5",
   "metadata": {},
   "source": [
    "# Arithmetic with NumPy Arrays\n"
   ]
  },
  {
   "cell_type": "code",
   "execution_count": 171,
   "id": "510be934",
   "metadata": {},
   "outputs": [
    {
     "data": {
      "text/plain": [
       "array([[ 1,  2,  3,  4],\n",
       "       [ 5,  6,  7,  8],\n",
       "       [ 9, 10, 11, 12]])"
      ]
     },
     "execution_count": 171,
     "metadata": {},
     "output_type": "execute_result"
    }
   ],
   "source": [
    "test_arr = np.arange(1,13).reshape(3,4)\n",
    "test_arr"
   ]
  },
  {
   "cell_type": "code",
   "execution_count": 172,
   "id": "56c0b10d",
   "metadata": {},
   "outputs": [
    {
     "data": {
      "text/plain": [
       "array([[ 2,  4,  6,  8],\n",
       "       [10, 12, 14, 16],\n",
       "       [18, 20, 22, 24]])"
      ]
     },
     "execution_count": 172,
     "metadata": {},
     "output_type": "execute_result"
    }
   ],
   "source": [
    "test_arr + test_arr # Adding of arrays"
   ]
  },
  {
   "cell_type": "code",
   "execution_count": 173,
   "id": "126cee7e",
   "metadata": {},
   "outputs": [
    {
     "data": {
      "text/plain": [
       "array([[  1,   4,   9,  16],\n",
       "       [ 25,  36,  49,  64],\n",
       "       [ 81, 100, 121, 144]])"
      ]
     },
     "execution_count": 173,
     "metadata": {},
     "output_type": "execute_result"
    }
   ],
   "source": [
    "test_arr * test_arr # Multiplication of arrays"
   ]
  },
  {
   "cell_type": "code",
   "execution_count": 174,
   "id": "186141fa",
   "metadata": {},
   "outputs": [
    {
     "data": {
      "text/plain": [
       "array([[1.        , 1.41421356, 1.73205081, 2.        ],\n",
       "       [2.23606798, 2.44948974, 2.64575131, 2.82842712],\n",
       "       [3.        , 3.16227766, 3.31662479, 3.46410162]])"
      ]
     },
     "execution_count": 174,
     "metadata": {},
     "output_type": "execute_result"
    }
   ],
   "source": [
    "test_arr ** 0.5 # Square root of array"
   ]
  },
  {
   "cell_type": "code",
   "execution_count": 175,
   "id": "908d1c93",
   "metadata": {},
   "outputs": [
    {
     "data": {
      "text/plain": [
       "array([[1.        , 0.5       , 0.33333333, 0.25      ],\n",
       "       [0.2       , 0.16666667, 0.14285714, 0.125     ],\n",
       "       [0.11111111, 0.1       , 0.09090909, 0.08333333]])"
      ]
     },
     "execution_count": 175,
     "metadata": {},
     "output_type": "execute_result"
    }
   ],
   "source": [
    "1/test_arr # Multiplicative inverse of array"
   ]
  },
  {
   "cell_type": "code",
   "execution_count": 176,
   "id": "da5e1cf4",
   "metadata": {},
   "outputs": [
    {
     "data": {
      "text/plain": [
       "array([[  1,   4,   9,  16],\n",
       "       [ 25,  36,  49,  64],\n",
       "       [ 81, 100, 121, 144]])"
      ]
     },
     "execution_count": 176,
     "metadata": {},
     "output_type": "execute_result"
    }
   ],
   "source": [
    "test_arr ** 2 # Square of array"
   ]
  },
  {
   "cell_type": "markdown",
   "id": "7c75b5d4",
   "metadata": {},
   "source": [
    "# Indexing and Slicing"
   ]
  },
  {
   "cell_type": "code",
   "execution_count": 177,
   "id": "ec740496",
   "metadata": {},
   "outputs": [
    {
     "data": {
      "text/plain": [
       "array([0, 1, 2, 3, 4, 5, 6, 7, 8, 9])"
      ]
     },
     "execution_count": 177,
     "metadata": {},
     "output_type": "execute_result"
    }
   ],
   "source": [
    "arr = np.arange(0,10)\n",
    "arr"
   ]
  },
  {
   "cell_type": "code",
   "execution_count": 178,
   "id": "c4e126e3",
   "metadata": {},
   "outputs": [
    {
     "data": {
      "text/plain": [
       "5"
      ]
     },
     "execution_count": 178,
     "metadata": {},
     "output_type": "execute_result"
    }
   ],
   "source": [
    "arr[5] # 5th element"
   ]
  },
  {
   "cell_type": "code",
   "execution_count": 179,
   "id": "c39f6a5e",
   "metadata": {},
   "outputs": [
    {
     "data": {
      "text/plain": [
       "array([5, 6, 7])"
      ]
     },
     "execution_count": 179,
     "metadata": {},
     "output_type": "execute_result"
    }
   ],
   "source": [
    "arr[5:8] # elements from 5 to 7(n-1) inclusive"
   ]
  },
  {
   "cell_type": "code",
   "execution_count": 180,
   "id": "5be44e51",
   "metadata": {},
   "outputs": [
    {
     "data": {
      "text/plain": [
       "array([ 0,  1,  2,  3,  4, 10, 10, 10,  8,  9])"
      ]
     },
     "execution_count": 180,
     "metadata": {},
     "output_type": "execute_result"
    }
   ],
   "source": [
    "arr[5:8] = 10 # replace 5 to 7 indexed elements with 10\n",
    "arr"
   ]
  },
  {
   "cell_type": "code",
   "execution_count": 181,
   "id": "5b1d1877",
   "metadata": {},
   "outputs": [
    {
     "data": {
      "text/plain": [
       "array([10, 10, 10])"
      ]
     },
     "execution_count": 181,
     "metadata": {},
     "output_type": "execute_result"
    }
   ],
   "source": [
    "arr_sliced = arr[5:8] # Slicing the elements\n",
    "arr_sliced"
   ]
  },
  {
   "cell_type": "code",
   "execution_count": 182,
   "id": "19ce62d9",
   "metadata": {},
   "outputs": [],
   "source": [
    "arr_sliced[:] = 100 # Replacing the sliced elements"
   ]
  },
  {
   "cell_type": "code",
   "execution_count": 183,
   "id": "e96654d7",
   "metadata": {},
   "outputs": [
    {
     "data": {
      "text/plain": [
       "array([  0,   1,   2,   3,   4, 100, 100, 100,   8,   9])"
      ]
     },
     "execution_count": 183,
     "metadata": {},
     "output_type": "execute_result"
    }
   ],
   "source": [
    "arr # Change could be noticed the main array when changed in sliced array"
   ]
  },
  {
   "cell_type": "code",
   "execution_count": 184,
   "id": "401a2f7e",
   "metadata": {},
   "outputs": [
    {
     "data": {
      "text/plain": [
       "array([[1, 2, 3],\n",
       "       [4, 5, 6],\n",
       "       [7, 8, 9]])"
      ]
     },
     "execution_count": 184,
     "metadata": {},
     "output_type": "execute_result"
    }
   ],
   "source": [
    "arr2D = np.arange(1,10).reshape(3,3)\n",
    "arr2D"
   ]
  },
  {
   "cell_type": "code",
   "execution_count": 185,
   "id": "ceab697a",
   "metadata": {},
   "outputs": [
    {
     "data": {
      "text/plain": [
       "array([4, 5, 6])"
      ]
     },
     "execution_count": 185,
     "metadata": {},
     "output_type": "execute_result"
    }
   ],
   "source": [
    "arr2D[1] # Returns 1 indexed array of the 2D array"
   ]
  },
  {
   "cell_type": "code",
   "execution_count": 186,
   "id": "902f9cc0",
   "metadata": {},
   "outputs": [
    {
     "data": {
      "text/plain": [
       "5"
      ]
     },
     "execution_count": 186,
     "metadata": {},
     "output_type": "execute_result"
    }
   ],
   "source": [
    "arr2D[1][1] # Returns 1 indexed  element from the 1 indexed array of the 2D array\n",
    "#arr2D[1,1]"
   ]
  },
  {
   "cell_type": "markdown",
   "id": "3cdc5ce6",
   "metadata": {},
   "source": [
    "## Boolean Indexing"
   ]
  },
  {
   "cell_type": "code",
   "execution_count": 187,
   "id": "feb3d42c",
   "metadata": {},
   "outputs": [
    {
     "data": {
      "text/plain": [
       "array([[ 2.31639382e+00,  2.87418267e-01, -9.75548999e-02,\n",
       "        -5.98383821e-02,  3.32483006e-01],\n",
       "       [-1.42364009e+00,  1.96703966e+00, -1.54350060e-01,\n",
       "        -1.42172952e+00, -1.33399272e+00],\n",
       "       [-4.21884324e-01,  2.10464359e-03,  1.55447552e+00,\n",
       "        -2.03822895e-01,  9.54808625e-01],\n",
       "       [ 1.44008714e+00,  9.40584676e-01,  9.69040371e-01,\n",
       "        -4.76665761e-01, -9.05725362e-01]])"
      ]
     },
     "execution_count": 187,
     "metadata": {},
     "output_type": "execute_result"
    }
   ],
   "source": [
    "test_data = np.random.randn(4,5)\n",
    "test_data"
   ]
  },
  {
   "cell_type": "code",
   "execution_count": 188,
   "id": "eb204766",
   "metadata": {},
   "outputs": [],
   "source": [
    "test_data[test_data<0] = 0 # Set 0 when element < 0"
   ]
  },
  {
   "cell_type": "code",
   "execution_count": 189,
   "id": "95a777aa",
   "metadata": {},
   "outputs": [
    {
     "data": {
      "text/plain": [
       "array([[2.31639382e+00, 2.87418267e-01, 0.00000000e+00, 0.00000000e+00,\n",
       "        3.32483006e-01],\n",
       "       [0.00000000e+00, 1.96703966e+00, 0.00000000e+00, 0.00000000e+00,\n",
       "        0.00000000e+00],\n",
       "       [0.00000000e+00, 2.10464359e-03, 1.55447552e+00, 0.00000000e+00,\n",
       "        9.54808625e-01],\n",
       "       [1.44008714e+00, 9.40584676e-01, 9.69040371e-01, 0.00000000e+00,\n",
       "        0.00000000e+00]])"
      ]
     },
     "execution_count": 189,
     "metadata": {},
     "output_type": "execute_result"
    }
   ],
   "source": [
    "test_data"
   ]
  },
  {
   "cell_type": "markdown",
   "id": "7ae2df14",
   "metadata": {},
   "source": [
    "# Transpose arrays"
   ]
  },
  {
   "cell_type": "code",
   "execution_count": 190,
   "id": "3f470297",
   "metadata": {},
   "outputs": [
    {
     "data": {
      "text/plain": [
       "array([[ 0,  1,  2,  3,  4],\n",
       "       [ 5,  6,  7,  8,  9],\n",
       "       [10, 11, 12, 13, 14]])"
      ]
     },
     "execution_count": 190,
     "metadata": {},
     "output_type": "execute_result"
    }
   ],
   "source": [
    "arr_new = np.arange(15).reshape((3, 5))\n",
    "arr_new"
   ]
  },
  {
   "cell_type": "code",
   "execution_count": 191,
   "id": "671c7af0",
   "metadata": {},
   "outputs": [
    {
     "data": {
      "text/plain": [
       "array([[ 0,  5, 10],\n",
       "       [ 1,  6, 11],\n",
       "       [ 2,  7, 12],\n",
       "       [ 3,  8, 13],\n",
       "       [ 4,  9, 14]])"
      ]
     },
     "execution_count": 191,
     "metadata": {},
     "output_type": "execute_result"
    }
   ],
   "source": [
    "arr_t = arr_new.T # .T is used to transpose the given matrix\n",
    "arr_t"
   ]
  },
  {
   "cell_type": "code",
   "execution_count": 192,
   "id": "71adb110",
   "metadata": {},
   "outputs": [
    {
     "data": {
      "text/plain": [
       "array([[ 30,  80, 130],\n",
       "       [ 80, 255, 430],\n",
       "       [130, 430, 730]])"
      ]
     },
     "execution_count": 192,
     "metadata": {},
     "output_type": "execute_result"
    }
   ],
   "source": [
    "np.dot(arr_new,arr_t) # performing dot product "
   ]
  },
  {
   "cell_type": "markdown",
   "id": "b14d40b2",
   "metadata": {},
   "source": [
    "# Universal Functions"
   ]
  },
  {
   "cell_type": "code",
   "execution_count": 193,
   "id": "a53ff9ac",
   "metadata": {},
   "outputs": [
    {
     "data": {
      "text/plain": [
       "array([0, 1, 2, 3, 4, 5, 6, 7, 8, 9])"
      ]
     },
     "execution_count": 193,
     "metadata": {},
     "output_type": "execute_result"
    }
   ],
   "source": [
    "eg_arr = np.arange(10)\n",
    "eg_arr"
   ]
  },
  {
   "cell_type": "code",
   "execution_count": 194,
   "id": "8d223185",
   "metadata": {},
   "outputs": [
    {
     "data": {
      "text/plain": [
       "array([0.        , 1.        , 1.41421356, 1.73205081, 2.        ,\n",
       "       2.23606798, 2.44948974, 2.64575131, 2.82842712, 3.        ])"
      ]
     },
     "execution_count": 194,
     "metadata": {},
     "output_type": "execute_result"
    }
   ],
   "source": [
    "np.sqrt(eg_arr)"
   ]
  },
  {
   "cell_type": "code",
   "execution_count": 195,
   "id": "8fd37ecb",
   "metadata": {},
   "outputs": [
    {
     "data": {
      "text/plain": [
       "array([1.00000000e+00, 2.71828183e+00, 7.38905610e+00, 2.00855369e+01,\n",
       "       5.45981500e+01, 1.48413159e+02, 4.03428793e+02, 1.09663316e+03,\n",
       "       2.98095799e+03, 8.10308393e+03])"
      ]
     },
     "execution_count": 195,
     "metadata": {},
     "output_type": "execute_result"
    }
   ],
   "source": [
    "np.exp(eg_arr) # Compute the exponent ex of each element"
   ]
  },
  {
   "cell_type": "code",
   "execution_count": 196,
   "id": "8f015961",
   "metadata": {},
   "outputs": [],
   "source": [
    "x = np.random.rand(8)\n",
    "y = np.random.rand(8)"
   ]
  },
  {
   "cell_type": "code",
   "execution_count": 197,
   "id": "617ace12",
   "metadata": {},
   "outputs": [
    {
     "data": {
      "text/plain": [
       "array([0.57620533, 0.1440173 , 0.97473429, 0.40214056, 0.61011179,\n",
       "       0.0950809 , 0.39502684, 0.96751488])"
      ]
     },
     "execution_count": 197,
     "metadata": {},
     "output_type": "execute_result"
    }
   ],
   "source": [
    "x"
   ]
  },
  {
   "cell_type": "code",
   "execution_count": 198,
   "id": "33198721",
   "metadata": {},
   "outputs": [
    {
     "data": {
      "text/plain": [
       "array([0.83044571, 0.29414047, 0.69492579, 0.40971843, 0.09841285,\n",
       "       0.31172315, 0.06419294, 0.30046274])"
      ]
     },
     "execution_count": 198,
     "metadata": {},
     "output_type": "execute_result"
    }
   ],
   "source": [
    "y"
   ]
  },
  {
   "cell_type": "code",
   "execution_count": 199,
   "id": "b4ddae12",
   "metadata": {},
   "outputs": [
    {
     "data": {
      "text/plain": [
       "array([0.83044571, 0.29414047, 0.97473429, 0.40971843, 0.61011179,\n",
       "       0.31172315, 0.39502684, 0.96751488])"
      ]
     },
     "execution_count": 199,
     "metadata": {},
     "output_type": "execute_result"
    }
   ],
   "source": [
    "np.maximum(x,y) # Element-wise maximum"
   ]
  },
  {
   "cell_type": "code",
   "execution_count": 200,
   "id": "e3122ff0",
   "metadata": {},
   "outputs": [
    {
     "data": {
      "text/plain": [
       "array([0.57620533, 0.1440173 , 0.69492579, 0.40214056, 0.09841285,\n",
       "       0.0950809 , 0.06419294, 0.30046274])"
      ]
     },
     "execution_count": 200,
     "metadata": {},
     "output_type": "execute_result"
    }
   ],
   "source": [
    "np.minimum(x,y) # Element-wise minimum"
   ]
  },
  {
   "cell_type": "code",
   "execution_count": 201,
   "id": "32e27e0c",
   "metadata": {},
   "outputs": [],
   "source": [
    "rem , whole_part = np.modf(x*6) # Return fractional and integral parts of array as a separate array"
   ]
  },
  {
   "cell_type": "code",
   "execution_count": 202,
   "id": "27eaea20",
   "metadata": {},
   "outputs": [
    {
     "data": {
      "text/plain": [
       "array([0.45723199, 0.86410378, 0.84840574, 0.41284336, 0.66067072,\n",
       "       0.5704854 , 0.37016104, 0.80508925])"
      ]
     },
     "execution_count": 202,
     "metadata": {},
     "output_type": "execute_result"
    }
   ],
   "source": [
    "rem"
   ]
  },
  {
   "cell_type": "code",
   "execution_count": 203,
   "id": "9c4db566",
   "metadata": {},
   "outputs": [
    {
     "data": {
      "text/plain": [
       "array([3., 0., 5., 2., 3., 0., 2., 5.])"
      ]
     },
     "execution_count": 203,
     "metadata": {},
     "output_type": "execute_result"
    }
   ],
   "source": [
    "whole_part"
   ]
  },
  {
   "cell_type": "code",
   "execution_count": 204,
   "id": "ddce901b",
   "metadata": {},
   "outputs": [
    {
     "data": {
      "text/plain": [
       "array([1., 1., 1., 1., 1., 1., 1., 1.])"
      ]
     },
     "execution_count": 204,
     "metadata": {},
     "output_type": "execute_result"
    }
   ],
   "source": [
    "np.ceil(x) # Compute the ceiling of each element (i.e., the smallest integer greater than or equal to that number)"
   ]
  },
  {
   "cell_type": "code",
   "execution_count": 205,
   "id": "89fd251c",
   "metadata": {},
   "outputs": [
    {
     "data": {
      "text/plain": [
       "array([0., 0., 0., 0., 0., 0., 0., 0.])"
      ]
     },
     "execution_count": 205,
     "metadata": {},
     "output_type": "execute_result"
    }
   ],
   "source": [
    "np.floor(y) # Compute the oor of each element (i.e., the largest integer less than or equal to each element)"
   ]
  },
  {
   "cell_type": "code",
   "execution_count": 206,
   "id": "c1996463",
   "metadata": {},
   "outputs": [
    {
     "data": {
      "text/plain": [
       "array([1.40665104, 0.43815776, 1.66966008, 0.81185899, 0.70852463,\n",
       "       0.40680405, 0.45921978, 1.26797761])"
      ]
     },
     "execution_count": 206,
     "metadata": {},
     "output_type": "execute_result"
    }
   ],
   "source": [
    "np.add(x,y) # Add corresponding elements in arrays"
   ]
  },
  {
   "cell_type": "code",
   "execution_count": 207,
   "id": "18b2c4ab",
   "metadata": {},
   "outputs": [
    {
     "data": {
      "text/plain": [
       "array([-0.25424038, -0.15012317,  0.2798085 , -0.00757787,  0.51169894,\n",
       "       -0.21664225,  0.3308339 ,  0.66705214])"
      ]
     },
     "execution_count": 207,
     "metadata": {},
     "output_type": "execute_result"
    }
   ],
   "source": [
    "np.subtract(x,y) # Subtract corresponding elements in arrays"
   ]
  },
  {
   "cell_type": "code",
   "execution_count": 208,
   "id": "89ba8446",
   "metadata": {},
   "outputs": [
    {
     "data": {
      "text/plain": [
       "array([0.47850725, 0.04236132, 0.67736799, 0.1647644 , 0.06004284,\n",
       "       0.02963892, 0.02535794, 0.29070217])"
      ]
     },
     "execution_count": 208,
     "metadata": {},
     "output_type": "execute_result"
    }
   ],
   "source": [
    "np.multiply(x,y) # Multiply array elements"
   ]
  },
  {
   "cell_type": "code",
   "execution_count": 209,
   "id": "ebf1fd86",
   "metadata": {},
   "outputs": [
    {
     "data": {
      "text/plain": [
       "array([0.69385069, 0.48962082, 1.40264516, 0.98150468, 6.19951375,\n",
       "       0.30501713, 6.15374251, 3.22008273])"
      ]
     },
     "execution_count": 209,
     "metadata": {},
     "output_type": "execute_result"
    }
   ],
   "source": [
    "np.divide(x,y) # divide"
   ]
  },
  {
   "cell_type": "code",
   "execution_count": 210,
   "id": "ce1d024e",
   "metadata": {},
   "outputs": [
    {
     "data": {
      "text/plain": [
       "array([0.63266298, 0.56553006, 0.98237378, 0.68850377, 0.95253629,\n",
       "       0.4802286 , 0.94212011, 0.99012644])"
      ]
     },
     "execution_count": 210,
     "metadata": {},
     "output_type": "execute_result"
    }
   ],
   "source": [
    "np.power(x,y) # Raise elements in first array to powers indicated in second array"
   ]
  },
  {
   "cell_type": "markdown",
   "id": "28922503",
   "metadata": {},
   "source": [
    "# Mathematical and Statistical Methods"
   ]
  },
  {
   "cell_type": "code",
   "execution_count": 211,
   "id": "ad90b379",
   "metadata": {},
   "outputs": [
    {
     "data": {
      "text/plain": [
       "array([[ 0.1281662 ,  0.1879981 , -0.67177703, -0.61123313,  1.55003838],\n",
       "       [-1.14507227,  0.76788993, -0.08312947,  1.2712299 ,  0.80604494],\n",
       "       [-0.76243892, -1.13211233,  0.81875328,  0.07955336,  2.30709738],\n",
       "       [ 1.01034862, -0.29724994, -2.85190031,  1.77308568, -0.12912361]])"
      ]
     },
     "execution_count": 211,
     "metadata": {},
     "output_type": "execute_result"
    }
   ],
   "source": [
    "sm_arr = np.random.randn(4, 5)\n",
    "sm_arr"
   ]
  },
  {
   "cell_type": "code",
   "execution_count": 212,
   "id": "a36ff957",
   "metadata": {},
   "outputs": [
    {
     "data": {
      "text/plain": [
       "0.1508084387502224"
      ]
     },
     "execution_count": 212,
     "metadata": {},
     "output_type": "execute_result"
    }
   ],
   "source": [
    "sm_arr.mean() # mean of the array"
   ]
  },
  {
   "cell_type": "code",
   "execution_count": 213,
   "id": "c0959f8f",
   "metadata": {},
   "outputs": [
    {
     "data": {
      "text/plain": [
       "3.016168775004448"
      ]
     },
     "execution_count": 213,
     "metadata": {},
     "output_type": "execute_result"
    }
   ],
   "source": [
    "sm_arr.sum() # sum of elements of array"
   ]
  },
  {
   "cell_type": "code",
   "execution_count": 214,
   "id": "1103fba7",
   "metadata": {},
   "outputs": [
    {
     "data": {
      "text/plain": [
       "array([ 0.11663851,  0.32339261,  0.26217056, -0.09896791])"
      ]
     },
     "execution_count": 214,
     "metadata": {},
     "output_type": "execute_result"
    }
   ],
   "source": [
    "sm_arr.mean(axis=1) # mean of elements row-wise"
   ]
  },
  {
   "cell_type": "code",
   "execution_count": 215,
   "id": "9020cc97",
   "metadata": {},
   "outputs": [
    {
     "data": {
      "text/plain": [
       "array([-0.76899637, -0.47347424, -2.78805353,  2.51263582,  4.5340571 ])"
      ]
     },
     "execution_count": 215,
     "metadata": {},
     "output_type": "execute_result"
    }
   ],
   "source": [
    "sm_arr.sum(axis=0)  # sum of elements column-wise"
   ]
  },
  {
   "cell_type": "code",
   "execution_count": 216,
   "id": "6ca7d529",
   "metadata": {},
   "outputs": [
    {
     "data": {
      "text/plain": [
       "array([[ 0.1281662 ,  0.1879981 , -0.67177703, -0.61123313,  1.55003838],\n",
       "       [-1.01690607,  0.95588803, -0.7549065 ,  0.65999677,  2.35608333],\n",
       "       [-1.77934499, -0.1762243 ,  0.06384678,  0.73955014,  4.66318071],\n",
       "       [-0.76899637, -0.47347424, -2.78805353,  2.51263582,  4.5340571 ]])"
      ]
     },
     "execution_count": 216,
     "metadata": {},
     "output_type": "execute_result"
    }
   ],
   "source": [
    "sm_arr.cumsum(axis=0) # cummulative sum along the row"
   ]
  },
  {
   "cell_type": "code",
   "execution_count": 217,
   "id": "1e5a197e",
   "metadata": {},
   "outputs": [
    {
     "data": {
      "text/plain": [
       "array([[ 0.1281662 ,  0.024095  , -0.01618647,  0.00989371,  0.01533562],\n",
       "       [-1.14507227, -0.87928946,  0.07309487,  0.09292038,  0.074898  ],\n",
       "       [-0.76243892,  0.8631665 ,  0.70672041,  0.05622199,  0.1297096 ],\n",
       "       [ 1.01034862, -0.30032607,  0.8565    ,  1.51864789, -0.1960933 ]])"
      ]
     },
     "execution_count": 217,
     "metadata": {},
     "output_type": "execute_result"
    }
   ],
   "source": [
    "sm_arr.cumprod(axis=1) # cummulative product along the column"
   ]
  },
  {
   "cell_type": "markdown",
   "id": "40b944a8",
   "metadata": {},
   "source": [
    "#  Boolean Arrays Methods"
   ]
  },
  {
   "cell_type": "code",
   "execution_count": 218,
   "id": "07b6c6ea",
   "metadata": {},
   "outputs": [
    {
     "data": {
      "text/plain": [
       "56"
      ]
     },
     "execution_count": 218,
     "metadata": {},
     "output_type": "execute_result"
    }
   ],
   "source": [
    "barr = np.random.randn(100)\n",
    "(barr>0).sum()"
   ]
  },
  {
   "cell_type": "code",
   "execution_count": 219,
   "id": "3f408814",
   "metadata": {},
   "outputs": [],
   "source": [
    "boolarr1 = np.array([True,False,True,False])"
   ]
  },
  {
   "cell_type": "code",
   "execution_count": 220,
   "id": "8e24ad14",
   "metadata": {},
   "outputs": [
    {
     "data": {
      "text/plain": [
       "False"
      ]
     },
     "execution_count": 220,
     "metadata": {},
     "output_type": "execute_result"
    }
   ],
   "source": [
    "boolarr1.all() # checks if every value is True"
   ]
  },
  {
   "cell_type": "code",
   "execution_count": 221,
   "id": "26c08ec3",
   "metadata": {},
   "outputs": [
    {
     "data": {
      "text/plain": [
       "True"
      ]
     },
     "execution_count": 221,
     "metadata": {},
     "output_type": "execute_result"
    }
   ],
   "source": [
    "boolarr1.any() #  tests whether one or more values in an array is True"
   ]
  },
  {
   "cell_type": "markdown",
   "id": "bad7dcfb",
   "metadata": {},
   "source": [
    "# Sorting"
   ]
  },
  {
   "cell_type": "code",
   "execution_count": 222,
   "id": "d44bcfca",
   "metadata": {},
   "outputs": [
    {
     "data": {
      "text/plain": [
       "array([ 0.45510306, -1.27009355, -0.8272714 ,  0.32914856,  0.95230691,\n",
       "       -0.34264816])"
      ]
     },
     "execution_count": 222,
     "metadata": {},
     "output_type": "execute_result"
    }
   ],
   "source": [
    "rand_arr = np.random.randn(6)\n",
    "rand_arr"
   ]
  },
  {
   "cell_type": "code",
   "execution_count": 223,
   "id": "3851c5e3",
   "metadata": {},
   "outputs": [
    {
     "data": {
      "text/plain": [
       "array([-1.27009355, -0.8272714 , -0.34264816,  0.32914856,  0.45510306,\n",
       "        0.95230691])"
      ]
     },
     "execution_count": 223,
     "metadata": {},
     "output_type": "execute_result"
    }
   ],
   "source": [
    "rand_arr.sort()\n",
    "rand_arr"
   ]
  },
  {
   "cell_type": "markdown",
   "id": "9f358ce1",
   "metadata": {},
   "source": [
    "# Set Logic"
   ]
  },
  {
   "cell_type": "code",
   "execution_count": 224,
   "id": "425ee53e",
   "metadata": {},
   "outputs": [],
   "source": [
    "p = np.array([1,2,3,3,4,2,1,5])\n",
    "q = np.array([1,2,2,1,6,6])"
   ]
  },
  {
   "cell_type": "code",
   "execution_count": 225,
   "id": "6ad11cd9",
   "metadata": {},
   "outputs": [
    {
     "data": {
      "text/plain": [
       "array([1, 2, 6])"
      ]
     },
     "execution_count": 225,
     "metadata": {},
     "output_type": "execute_result"
    }
   ],
   "source": [
    "np.unique(p) # Compute the sorted, unique elements in p\n",
    "np.unique(q) # Compute the sorted, unique elements in q"
   ]
  },
  {
   "cell_type": "code",
   "execution_count": 226,
   "id": "dd2a82e9",
   "metadata": {},
   "outputs": [
    {
     "data": {
      "text/plain": [
       "array([1, 2])"
      ]
     },
     "execution_count": 226,
     "metadata": {},
     "output_type": "execute_result"
    }
   ],
   "source": [
    "np.intersect1d(p, q) # Compute the sorted, common elements in p and q"
   ]
  },
  {
   "cell_type": "code",
   "execution_count": 227,
   "id": "4560d23b",
   "metadata": {},
   "outputs": [
    {
     "data": {
      "text/plain": [
       "array([1, 2, 3, 4, 5, 6])"
      ]
     },
     "execution_count": 227,
     "metadata": {},
     "output_type": "execute_result"
    }
   ],
   "source": [
    "np.union1d(p, q) # Compute the sorted union of elements"
   ]
  },
  {
   "cell_type": "code",
   "execution_count": 228,
   "id": "7b721bcf",
   "metadata": {},
   "outputs": [
    {
     "data": {
      "text/plain": [
       "array([3, 4, 5])"
      ]
     },
     "execution_count": 228,
     "metadata": {},
     "output_type": "execute_result"
    }
   ],
   "source": [
    "np.setdiff1d(p, q) # Set difference, elements in p that are not in q"
   ]
  },
  {
   "cell_type": "code",
   "execution_count": null,
   "id": "60db9e08",
   "metadata": {},
   "outputs": [],
   "source": []
  }
 ],
 "metadata": {
  "kernelspec": {
   "display_name": "Python 3 (ipykernel)",
   "language": "python",
   "name": "python3"
  },
  "language_info": {
   "codemirror_mode": {
    "name": "ipython",
    "version": 3
   },
   "file_extension": ".py",
   "mimetype": "text/x-python",
   "name": "python",
   "nbconvert_exporter": "python",
   "pygments_lexer": "ipython3",
   "version": "3.11.1"
  }
 },
 "nbformat": 4,
 "nbformat_minor": 5
}
